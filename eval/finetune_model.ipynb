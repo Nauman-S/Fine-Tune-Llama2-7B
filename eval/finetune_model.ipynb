{
 "cells": [
  {
   "cell_type": "markdown",
   "id": "6208c06e",
   "metadata": {
    "id": "6208c06e"
   },
   "source": [
    "# Fine-Tuning LLaMA-2-7B with LoRA on Dolly-15K Dataset\n",
    "\n",
    "## Purpose\n",
    "This notebook implements **Parameter-Efficient Fine-Tuning (PEFT)** using **LoRA (Low-Rank Adaptation)** to fine-tune the **meta-llama/Llama-2-7b** model on the **databricks/databricks-dolly-15k** dataset. The goal is to transform the base model into a helpful conversational assistant that follows instructions effectively.\n",
    "\n",
    "## Background\n",
    "Instruction fine-tuning adapts a pretrained LLM to follow natural-language instructions instead of generic next-token prediction. This converts a raw pretrained model into a usable conversational assistant that can:\n",
    "- Respond concisely to user instructions\n",
    "- Follow specified formats consistently  \n",
    "- Avoid generating unnecessary tokens\n",
    "- Maintain high conversational quality\n",
    "\n",
    "## Dataset: Dolly-15K\n",
    "- **Source**: [databricks/databricks-dolly-15k](https://huggingface.co/datasets/databricks/databricks-dolly-15k)\n",
    "- **Size**: 15,011 high-quality instruction-following examples\n",
    "- **Format**: Each entry contains `instruction`, `context`, and `response` fields\n",
    "- **Categories**: 7 different task categories (creative writing, information extraction, etc.)\n",
    "- **Splits**: 80% train / 10% validation / 10% test\n",
    "\n",
    "## Technical Approach\n",
    "- **Base Model**: `meta-llama/Llama-2-7b-hf`\n",
    "- **Fine-tuning Method**: LoRA (Low-Rank Adaptation)\n",
    "- **Hardware**: Optimized for Colab with FSDP if VRAM is restricted\n",
    "- **Training**: Track training and validation loss for convergence monitoring\n",
    "\n",
    "\n",
    "\n",
    "## Expected Outcomes\n",
    "- Upload fine-tuned weights to Colab for reuse and evaluation\n",
    "\n",
    "## Workflow\n",
    "1. **Environment Setup**: Install dependencies and mount Google Drive\n",
    "2. **Data Preprocessing**: Load and format Dolly-15K dataset\n",
    "3. **Model Configuration**: Set up LoRA parameters and training config\n",
    "4. **Training**: Fine-tune with loss monitoring and checkpointing\n",
    "5. **Model Saving**: Upload weights to Colab for later evaluation\n",
    "6. **Documentation**: Record hyperparameters and training metrics\n",
    "\n",
    "---\n",
    "**Note**: This fine-tuning process is designed to demonstrate the effectiveness of LoRA for instruction-following capabilities while maintaining computational efficiency.\n"
   ]
  },
  {
   "cell_type": "code",
   "execution_count": null,
   "id": "3TlxhsddYsuq",
   "metadata": {
    "id": "3TlxhsddYsuq"
   },
   "outputs": [],
   "source": [
    "!pip install -U transformers peft bitsandbytes accelerate trl datasets"
   ]
  },
  {
   "cell_type": "code",
   "execution_count": null,
   "id": "qd6Gtx5UaEMU",
   "metadata": {
    "id": "qd6Gtx5UaEMU"
   },
   "outputs": [],
   "source": [
    "from datasets import load_dataset\n",
    "import torch\n",
    "import time\n",
    "from transformers import AutoModelForCausalLM, AutoTokenizer, BitsAndBytesConfig, TrainingArguments\n",
    "from trl import SFTTrainer, SFTConfig\n",
    "import os\n",
    "from peft import LoraConfig, get_peft_model"
   ]
  },
  {
   "cell_type": "code",
   "execution_count": null,
   "id": "eGip1uHGbchC",
   "metadata": {
    "id": "eGip1uHGbchC"
   },
   "outputs": [],
   "source": [
    "from huggingface_hub import login\n",
    "login(new_session=False)"
   ]
  },
  {
   "cell_type": "code",
   "execution_count": null,
   "id": "sqv_Uo9BaSM0",
   "metadata": {
    "id": "sqv_Uo9BaSM0"
   },
   "outputs": [],
   "source": [
    "model_id = \"meta-llama/Llama-2-7b-hf\"\n",
    "bnb_config = BitsAndBytesConfig(\n",
    "    load_in_4bit=True,\n",
    "    bnb_4bit_quant_type=\"nf4\",\n",
    "    bnb_4bit_compute_dtype=torch.bfloat16,\n",
    "    bnb_4bit_use_double_quant=True,\n",
    ")\n",
    "model = AutoModelForCausalLM.from_pretrained(\n",
    "    model_id,\n",
    "    quantization_config=bnb_config,\n",
    "    device_map=\"auto\",\n",
    ")\n",
    "\n",
    "\n",
    "\n",
    "print(f\"✓ Model {model_id} loaded in 4-bit (QLoRA)\")\n"
   ]
  },
  {
   "cell_type": "code",
   "execution_count": null,
   "id": "M7voFBhQc8bT",
   "metadata": {
    "id": "M7voFBhQc8bT"
   },
   "outputs": [],
   "source": [
    "tokenizer = AutoTokenizer.from_pretrained(model_id, trust_remote_code=True)\n",
    "tokenizer.pad_token = tokenizer.eos_token\n",
    "tokenizer.padding_side = \"right\"\n",
    "\n",
    "print(model)\n"
   ]
  },
  {
   "cell_type": "code",
   "execution_count": null,
   "id": "DpfjpqmEeC_7",
   "metadata": {
    "id": "DpfjpqmEeC_7"
   },
   "outputs": [],
   "source": [
    "#LoRA Config\n",
    "peft_config = LoraConfig(\n",
    "    r=16,\n",
    "    lora_alpha=32,\n",
    "    lora_dropout=0.05,\n",
    "    bias=\"none\",\n",
    "    task_type=\"CAUSAL_LM\",\n",
    "    target_modules=[\n",
    "        \"q_proj\",\n",
    "        \"k_proj\",\n",
    "        \"v_proj\",\n",
    "        \"o_proj\",\n",
    "        \"gate_proj\",\n",
    "        \"up_proj\",\n",
    "        \"down_proj\"\n",
    "    ]\n",
    ")\n",
    "\n",
    "model = get_peft_model(model, peft_config)\n",
    "model.print_trainable_parameters()"
   ]
  },
  {
   "cell_type": "code",
   "execution_count": null,
   "id": "H1AY2UOzftE8",
   "metadata": {
    "id": "H1AY2UOzftE8"
   },
   "outputs": [],
   "source": [
    "from google.colab import drive\n",
    "drive.mount('/content/drive', force_remount=True)"
   ]
  },
  {
   "cell_type": "code",
   "execution_count": null,
   "id": "70RXzBJHg7Dn",
   "metadata": {
    "id": "70RXzBJHg7Dn"
   },
   "outputs": [],
   "source": [
    "drive_path = '/content/drive/MyDrive/LLaMA2-Dolly-Training/data'\n",
    "os.makedirs(drive_path, exist_ok=True)\n",
    "train_path = os.path.join(drive_path, 'train.parquet')\n",
    "val_path = os.path.join(drive_path, 'val.parquet')\n",
    "test_path = os.path.join(drive_path, 'test.parquet')\n",
    "\n",
    "\n",
    "train_dataset_hf = load_dataset('parquet', data_files={'train': train_path})['train']\n",
    "val_dataset_hf = load_dataset('parquet', data_files={'validation': val_path})['validation']\n",
    "test_dataset_hf = load_dataset('parquet', data_files={'test': test_path})['test']\n"
   ]
  },
  {
   "cell_type": "code",
   "execution_count": null,
   "id": "PN_6iTbKjR6R",
   "metadata": {
    "id": "PN_6iTbKjR6R"
   },
   "outputs": [],
   "source": [
    "# TRAINING CONFIGS\n",
    "\n",
    "output_dir = \"/content/drive/MyDrive/LLaMA2-Dolly-Training/results\"\n",
    "per_device_train_batch_size = 4\n",
    "gradient_accumulation_steps = 4\n",
    "optim = \"paged_adamw_32bit\"\n",
    "learning_rate = 2e-4\n",
    "max_grad_norm = 0.3\n",
    "num_train_epochs = 1\n",
    "warmup_ratio = 0.03\n",
    "lr_scheduler_type = \"constant\"\n",
    "save_strategy = \"steps\"\n",
    "save_steps = 100\n",
    "logging_strategy = \"steps\"\n",
    "logging_steps = 10\n",
    "eval_steps = 50\n",
    "max_seq_length = 1024\n",
    "\n",
    "# --- Create SFTConfig ---\n",
    "sft_config = SFTConfig(\n",
    "    output_dir=output_dir,\n",
    "    per_device_train_batch_size=per_device_train_batch_size,\n",
    "    gradient_accumulation_steps=gradient_accumulation_steps,\n",
    "    optim=optim,\n",
    "    save_strategy=save_strategy,\n",
    "    save_steps=save_steps,\n",
    "    logging_strategy=logging_strategy,\n",
    "    logging_steps=logging_steps,\n",
    "    learning_rate=learning_rate,\n",
    "    fp16=True,\n",
    "    max_grad_norm=max_grad_norm,\n",
    "    max_length=max_seq_length,\n",
    "    num_train_epochs=num_train_epochs,\n",
    "    warmup_ratio=warmup_ratio,\n",
    "    group_by_length=True,\n",
    "    lr_scheduler_type=lr_scheduler_type,\n",
    "    do_eval=True,                # Enable evaluation\n",
    "    eval_steps=eval_steps,       # Evaluation frequency\n",
    "    save_total_limit=2,\n",
    "    report_to=\"none\",\n",
    "    dataset_text_field=\"text\",\n",
    "    packing=False,\n",
    ")"
   ]
  },
  {
   "cell_type": "code",
   "execution_count": null,
   "id": "doXmDDQ6lQQB",
   "metadata": {
    "id": "doXmDDQ6lQQB"
   },
   "outputs": [],
   "source": [
    "trainer = SFTTrainer(\n",
    "        model=model,\n",
    "        train_dataset=train_dataset_hf,\n",
    "        eval_dataset=val_dataset_hf,\n",
    "        peft_config=peft_config,\n",
    "        processing_class=tokenizer,\n",
    "        args=sft_config,\n",
    "  )"
   ]
  },
  {
   "cell_type": "code",
   "execution_count": null,
   "id": "PGjwi-9rpxKD",
   "metadata": {
    "id": "PGjwi-9rpxKD"
   },
   "outputs": [],
   "source": [
    "print(\"\\nStarting QLoRA fine-tuning...\")\n",
    "start_time = time.time()\n",
    "\n",
    "trainer.train()\n",
    "\n",
    "end_time = time.time()\n",
    "training_duration_minutes = (end_time - start_time) / 60\n",
    "print(f\"Training finished in: {training_duration_minutes:.2f} minutes\")\n",
    "\n",
    "final_adapter_path = os.path.join(output_dir, \"final_lora_adapter\")\n",
    "print(f\"\\nSaving final LoRA adapter state to: {final_adapter_path}\")\n",
    "trainer.model.save_pretrained(final_adapter_path)\n",
    "tokenizer.save_pretrained(final_adapter_path)\n",
    "print(\"Final adapter and tokenizer saved.\")"
   ]
  }
 ],
 "metadata": {
  "kernelspec": {
   "display_name": "Python 3",
   "language": "python",
   "name": "python3"
  },
  "language_info": {
   "codemirror_mode": {
    "name": "ipython",
    "version": 3
   },
   "file_extension": ".py",
   "mimetype": "text/x-python",
   "name": "python",
   "nbconvert_exporter": "python",
   "pygments_lexer": "ipython3",
   "version": "3.8.5"
  }
 },
 "nbformat": 4,
 "nbformat_minor": 5
}